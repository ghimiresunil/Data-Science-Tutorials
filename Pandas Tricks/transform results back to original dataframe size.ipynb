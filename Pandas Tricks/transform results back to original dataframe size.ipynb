{
 "cells": [
  {
   "cell_type": "markdown",
   "id": "ef16e728",
   "metadata": {},
   "source": [
    "## Transform .groupby() result back into original DataFrame"
   ]
  },
  {
   "cell_type": "markdown",
   "id": "277551de",
   "metadata": {},
   "source": [
    "Sometime you need to get a statistic from a subgroup in a dataset and require this statistic to be in the original dataset. Previously I did this in multiple steps but this can also be achieved with a lesser known method in Pandas: .transform().\n",
    "\n",
    "The .transform() method acts very similarly to the .apply() function and is especially powerful after a .groupby(). It does a sort of .apply() on the groupby result and then transforms this into the length of the original DataFrame. Lets have a look a some artificial data:"
   ]
  },
  {
   "cell_type": "code",
   "execution_count": 1,
   "id": "d756e31b",
   "metadata": {},
   "outputs": [],
   "source": [
    "import pandas as pd\n",
    "import random\n",
    "N = 100  # number of samples\n",
    "max_amount = 1000  # maximum amount spend\n",
    "groups = ['A', 'B', 'C', 'D']  # Groups\n",
    "random.seed(42)\n",
    "df = pd.DataFrame([\n",
    "    {\n",
    "        'id': ix, \n",
    "        'group': random.choice(groups), \n",
    "        'spend_money': round(random.random() * max_amount, 2),\n",
    "    } for ix in range(N) ])"
   ]
  },
  {
   "cell_type": "markdown",
   "id": "929cd9f3",
   "metadata": {},
   "source": [
    "Using .value_counts() we can quickly see how often groups occur."
   ]
  },
  {
   "cell_type": "code",
   "execution_count": 2,
   "id": "7b64bbe0",
   "metadata": {},
   "outputs": [
    {
     "data": {
      "text/plain": [
       "A    29\n",
       "B    25\n",
       "D    24\n",
       "C    22\n",
       "Name: group, dtype: int64"
      ]
     },
     "execution_count": 2,
     "metadata": {},
     "output_type": "execute_result"
    }
   ],
   "source": [
    "df['group'].value_counts()"
   ]
  },
  {
   "cell_type": "markdown",
   "id": "d5830955",
   "metadata": {},
   "source": [
    "Now, as an example, lets say we want to see the average money_spend for each group. This can easily be done using a .groupby()"
   ]
  },
  {
   "cell_type": "code",
   "execution_count": 3,
   "id": "1c8ce4b9",
   "metadata": {},
   "outputs": [
    {
     "data": {
      "text/plain": [
       "group\n",
       "A    504.031724\n",
       "B    506.783600\n",
       "C    530.030909\n",
       "D    448.651250\n",
       "Name: spend_money, dtype: float64"
      ]
     },
     "execution_count": 3,
     "metadata": {},
     "output_type": "execute_result"
    }
   ],
   "source": [
    "(df\n",
    "    .groupby('group')['spend_money']\n",
    "    .mean()\n",
    ")"
   ]
  },
  {
   "cell_type": "code",
   "execution_count": 5,
   "id": "281b977e",
   "metadata": {},
   "outputs": [
    {
     "data": {
      "text/html": [
       "<div>\n",
       "<style scoped>\n",
       "    .dataframe tbody tr th:only-of-type {\n",
       "        vertical-align: middle;\n",
       "    }\n",
       "\n",
       "    .dataframe tbody tr th {\n",
       "        vertical-align: top;\n",
       "    }\n",
       "\n",
       "    .dataframe thead th {\n",
       "        text-align: right;\n",
       "    }\n",
       "</style>\n",
       "<table border=\"1\" class=\"dataframe\">\n",
       "  <thead>\n",
       "    <tr style=\"text-align: right;\">\n",
       "      <th></th>\n",
       "      <th>id</th>\n",
       "      <th>group</th>\n",
       "      <th>spend_money</th>\n",
       "      <th>group_mean</th>\n",
       "    </tr>\n",
       "  </thead>\n",
       "  <tbody>\n",
       "    <tr>\n",
       "      <th>0</th>\n",
       "      <td>0</td>\n",
       "      <td>A</td>\n",
       "      <td>25.01</td>\n",
       "      <td>504.031724</td>\n",
       "    </tr>\n",
       "    <tr>\n",
       "      <th>1</th>\n",
       "      <td>1</td>\n",
       "      <td>C</td>\n",
       "      <td>244.89</td>\n",
       "      <td>530.030909</td>\n",
       "    </tr>\n",
       "    <tr>\n",
       "      <th>2</th>\n",
       "      <td>2</td>\n",
       "      <td>B</td>\n",
       "      <td>736.47</td>\n",
       "      <td>506.783600</td>\n",
       "    </tr>\n",
       "    <tr>\n",
       "      <th>3</th>\n",
       "      <td>3</td>\n",
       "      <td>A</td>\n",
       "      <td>590.49</td>\n",
       "      <td>504.031724</td>\n",
       "    </tr>\n",
       "    <tr>\n",
       "      <th>4</th>\n",
       "      <td>4</td>\n",
       "      <td>A</td>\n",
       "      <td>29.80</td>\n",
       "      <td>504.031724</td>\n",
       "    </tr>\n",
       "  </tbody>\n",
       "</table>\n",
       "</div>"
      ],
      "text/plain": [
       "   id group  spend_money  group_mean\n",
       "0   0     A        25.01  504.031724\n",
       "1   1     C       244.89  530.030909\n",
       "2   2     B       736.47  506.783600\n",
       "3   3     A       590.49  504.031724\n",
       "4   4     A        29.80  504.031724"
      ]
     },
     "execution_count": 5,
     "metadata": {},
     "output_type": "execute_result"
    }
   ],
   "source": [
    "df['group_mean'] = (df\n",
    "    .groupby('group')['spend_money']\n",
    "    .transform('mean')\n",
    ")\n",
    "df.head()"
   ]
  },
  {
   "cell_type": "markdown",
   "id": "e399b5a2",
   "metadata": {},
   "source": [
    "To \"transform\" these results back to the original DataFrame we can make use of the .transform() function: For example, we want to select the second smallest value from each group. One way to do this is the following:"
   ]
  },
  {
   "cell_type": "code",
   "execution_count": 6,
   "id": "981bbcf9",
   "metadata": {},
   "outputs": [
    {
     "data": {
      "text/plain": [
       "29.8"
      ]
     },
     "execution_count": 6,
     "metadata": {},
     "output_type": "execute_result"
    }
   ],
   "source": [
    "(df\n",
    "    .loc[df['group']=='A', 'spend_money']\n",
    "    .sort_values()\n",
    "    .iloc[1]\n",
    ")"
   ]
  },
  {
   "cell_type": "markdown",
   "id": "83bd8635",
   "metadata": {},
   "source": [
    "Using .transform() we can als make use of a function:"
   ]
  },
  {
   "cell_type": "code",
   "execution_count": 8,
   "id": "f861a4c3",
   "metadata": {},
   "outputs": [
    {
     "data": {
      "text/html": [
       "<div>\n",
       "<style scoped>\n",
       "    .dataframe tbody tr th:only-of-type {\n",
       "        vertical-align: middle;\n",
       "    }\n",
       "\n",
       "    .dataframe tbody tr th {\n",
       "        vertical-align: top;\n",
       "    }\n",
       "\n",
       "    .dataframe thead th {\n",
       "        text-align: right;\n",
       "    }\n",
       "</style>\n",
       "<table border=\"1\" class=\"dataframe\">\n",
       "  <thead>\n",
       "    <tr style=\"text-align: right;\">\n",
       "      <th></th>\n",
       "      <th>id</th>\n",
       "      <th>group</th>\n",
       "      <th>spend_money</th>\n",
       "      <th>group_mean</th>\n",
       "      <th>2nd_lowest</th>\n",
       "    </tr>\n",
       "  </thead>\n",
       "  <tbody>\n",
       "    <tr>\n",
       "      <th>0</th>\n",
       "      <td>0</td>\n",
       "      <td>A</td>\n",
       "      <td>25.01</td>\n",
       "      <td>504.031724</td>\n",
       "      <td>29.80</td>\n",
       "    </tr>\n",
       "    <tr>\n",
       "      <th>1</th>\n",
       "      <td>1</td>\n",
       "      <td>C</td>\n",
       "      <td>244.89</td>\n",
       "      <td>530.030909</td>\n",
       "      <td>111.55</td>\n",
       "    </tr>\n",
       "    <tr>\n",
       "      <th>2</th>\n",
       "      <td>2</td>\n",
       "      <td>B</td>\n",
       "      <td>736.47</td>\n",
       "      <td>506.783600</td>\n",
       "      <td>94.33</td>\n",
       "    </tr>\n",
       "    <tr>\n",
       "      <th>3</th>\n",
       "      <td>3</td>\n",
       "      <td>A</td>\n",
       "      <td>590.49</td>\n",
       "      <td>504.031724</td>\n",
       "      <td>29.80</td>\n",
       "    </tr>\n",
       "    <tr>\n",
       "      <th>4</th>\n",
       "      <td>4</td>\n",
       "      <td>A</td>\n",
       "      <td>29.80</td>\n",
       "      <td>504.031724</td>\n",
       "      <td>29.80</td>\n",
       "    </tr>\n",
       "  </tbody>\n",
       "</table>\n",
       "</div>"
      ],
      "text/plain": [
       "   id group  spend_money  group_mean  2nd_lowest\n",
       "0   0     A        25.01  504.031724       29.80\n",
       "1   1     C       244.89  530.030909      111.55\n",
       "2   2     B       736.47  506.783600       94.33\n",
       "3   3     A       590.49  504.031724       29.80\n",
       "4   4     A        29.80  504.031724       29.80"
      ]
     },
     "execution_count": 8,
     "metadata": {},
     "output_type": "execute_result"
    }
   ],
   "source": [
    "def second_from_group(group):\n",
    "    if len(group) >= 2:\n",
    "        return group.sort_values().iloc[1]\n",
    "    else:\n",
    "        return None\n",
    "df['2nd_lowest'] = (df\n",
    "    .groupby('group')['spend_money']\n",
    "    .transform(second_from_group)\n",
    ")\n",
    "df.head()"
   ]
  }
 ],
 "metadata": {
  "kernelspec": {
   "display_name": "Python 3",
   "language": "python",
   "name": "python3"
  },
  "language_info": {
   "codemirror_mode": {
    "name": "ipython",
    "version": 3
   },
   "file_extension": ".py",
   "mimetype": "text/x-python",
   "name": "python",
   "nbconvert_exporter": "python",
   "pygments_lexer": "ipython3",
   "version": "3.8.10"
  }
 },
 "nbformat": 4,
 "nbformat_minor": 5
}
